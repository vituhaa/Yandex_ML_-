{
  "cells": [
    {
      "cell_type": "markdown",
      "metadata": {
        "id": "view-in-github",
        "colab_type": "text"
      },
      "source": [
        "<a href=\"https://colab.research.google.com/github/vituhaa/Yandex_ML_-/blob/main/Fmnist_classification.ipynb\" target=\"_parent\"><img src=\"https://colab.research.google.com/assets/colab-badge.svg\" alt=\"Open In Colab\"/></a>"
      ]
    },
    {
      "cell_type": "markdown",
      "metadata": {
        "id": "nDsVMGiVgSq2"
      },
      "source": [
        "# Домашнее задание №1\n",
        "## Часть2: Классификация FashionMNIST\n",
        "##### Автор: [Радослав Нейчев](https://www.linkedin.com/in/radoslav-neychev/), https://t.me/s/rads_ai\n",
        "\n",
        "В данном задании вам предстоит решить достаточно простую задачу классификации изображений с помощью сверточных нейронных сетей."
      ]
    },
    {
      "cell_type": "code",
      "execution_count": null,
      "metadata": {
        "id": "3isBRG6PgSq6"
      },
      "outputs": [],
      "source": [
        "# do not change the code in the block below\n",
        "# __________start of block__________\n",
        "import json\n",
        "import os\n",
        "import re\n",
        "\n",
        "import numpy as np\n",
        "import torch\n",
        "import torchvision\n",
        "from IPython.display import clear_output\n",
        "from matplotlib import pyplot as plt\n",
        "from torch import nn\n",
        "from torch.nn import functional as F\n",
        "from torchvision.datasets import FashionMNIST\n",
        "\n",
        "# __________end of block__________"
      ]
    },
    {
      "cell_type": "code",
      "execution_count": null,
      "metadata": {
        "id": "Of-RLPR514bR"
      },
      "outputs": [],
      "source": [
        "# do not change the code in the block below\n",
        "# __________start of block__________\n",
        "def get_predictions(model, eval_data, step=10):\n",
        "\n",
        "    predicted_labels = []\n",
        "    model.eval()\n",
        "    with torch.no_grad():\n",
        "        for idx in range(0, len(eval_data), step):\n",
        "            y_predicted = model(eval_data[idx : idx + step].to(device))\n",
        "            predicted_labels.append(y_predicted.argmax(dim=1).cpu())\n",
        "\n",
        "    predicted_labels = torch.cat(predicted_labels)\n",
        "    predicted_labels = \",\".join([str(x.item()) for x in list(predicted_labels)])\n",
        "    return predicted_labels\n",
        "\n",
        "\n",
        "def get_accuracy(model, data_loader):\n",
        "    predicted_labels = []\n",
        "    real_labels = []\n",
        "    model.eval()\n",
        "    with torch.no_grad():\n",
        "        for batch in data_loader:\n",
        "            y_predicted = model(batch[0].to(device))\n",
        "            predicted_labels.append(y_predicted.argmax(dim=1).cpu())\n",
        "            real_labels.append(batch[1])\n",
        "\n",
        "    predicted_labels = torch.cat(predicted_labels)\n",
        "    real_labels = torch.cat(real_labels)\n",
        "    accuracy_score = (predicted_labels == real_labels).type(torch.FloatTensor).mean()\n",
        "    return accuracy_score\n",
        "\n",
        "\n",
        "# __________end of block__________"
      ]
    },
    {
      "cell_type": "markdown",
      "metadata": {
        "id": "7x_qRshn14bR"
      },
      "source": [
        "Загрузите файл `hw_overfitting_data_dict.npy` (ссылка есть на странице с заданием), он понадобится для генерации посылок. Код ниже может его загрузить (но в случае возникновения ошибки скачайте и загрузите его вручную).\n"
      ]
    },
    {
      "cell_type": "code",
      "execution_count": null,
      "metadata": {
        "id": "1GhXrafX14bR",
        "colab": {
          "base_uri": "https://localhost:8080/"
        },
        "outputId": "37270a86-5649-4e04-d9bd-d4eb5eb331d2"
      },
      "outputs": [
        {
          "output_type": "stream",
          "name": "stdout",
          "text": [
            "--2025-09-11 16:33:05--  https://github.com/girafe-ai/ml-course/raw/24f_ysda/homeworks/hw_overfitting/hw_overfitting_data_dict\n",
            "Resolving github.com (github.com)... 140.82.114.3\n",
            "Connecting to github.com (github.com)|140.82.114.3|:443... connected.\n",
            "HTTP request sent, awaiting response... 302 Found\n",
            "Location: https://raw.githubusercontent.com/girafe-ai/ml-course/24f_ysda/homeworks/hw_overfitting/hw_overfitting_data_dict [following]\n",
            "--2025-09-11 16:33:06--  https://raw.githubusercontent.com/girafe-ai/ml-course/24f_ysda/homeworks/hw_overfitting/hw_overfitting_data_dict\n",
            "Resolving raw.githubusercontent.com (raw.githubusercontent.com)... 185.199.108.133, 185.199.109.133, 185.199.110.133, ...\n",
            "Connecting to raw.githubusercontent.com (raw.githubusercontent.com)|185.199.108.133|:443... connected.\n",
            "HTTP request sent, awaiting response... 200 OK\n",
            "Length: 6272446 (6.0M) [application/octet-stream]\n",
            "Saving to: ‘hw_overfitting_data_dict.npy’\n",
            "\n",
            "hw_overfitting_data 100%[===================>]   5.98M  --.-KB/s    in 0.07s   \n",
            "\n",
            "2025-09-11 16:33:06 (90.0 MB/s) - ‘hw_overfitting_data_dict.npy’ saved [6272446/6272446]\n",
            "\n"
          ]
        }
      ],
      "source": [
        "!wget https://github.com/girafe-ai/ml-course/raw/24f_ysda/homeworks/hw_overfitting/hw_overfitting_data_dict -O hw_overfitting_data_dict.npy"
      ]
    },
    {
      "cell_type": "code",
      "execution_count": null,
      "metadata": {
        "id": "u-IK5S0h14bS"
      },
      "outputs": [],
      "source": [
        "# do not change the code in the block below\n",
        "# __________start of block__________\n",
        "assert os.path.exists(\n",
        "    \"hw_overfitting_data_dict.npy\"\n",
        "), \"Please, download `hw_overfitting_data_dict.npy` and place it in the working directory\"\n",
        "\n",
        "# __________end of block__________"
      ]
    },
    {
      "cell_type": "markdown",
      "metadata": {
        "id": "zeA6Q5-CgSq7"
      },
      "source": [
        "Вернемся к задаче распознавания простых изображений, рассмотренной ранее. Но теперь будем работать с набором данных [FashionMNIST](https://github.com/zalandoresearch/fashion-mnist). В данном задании воспользуемся всем датасетом целиком.\n",
        "\n",
        "__Ваша первая задача: реализовать весь пайплан обучения модели и добиться качества $\\geq 88.5\\%$ на тестовой выборке.__\n",
        "\n",
        "Код для обучения модели в данном задании отсутствует. Присутствует лишь несколько тестов, которые помогут вам отладить свое решение. За примером можно обратиться к ноутбукам с предыдущих занятий."
      ]
    },
    {
      "cell_type": "code",
      "source": [
        "!nvcc --version"
      ],
      "metadata": {
        "colab": {
          "base_uri": "https://localhost:8080/"
        },
        "id": "QFL_ezSRUGdF",
        "outputId": "9c764124-126a-4be7-d8fd-48b7283056fe"
      },
      "execution_count": null,
      "outputs": [
        {
          "output_type": "stream",
          "name": "stdout",
          "text": [
            "nvcc: NVIDIA (R) Cuda compiler driver\n",
            "Copyright (c) 2005-2024 NVIDIA Corporation\n",
            "Built on Thu_Jun__6_02:18:23_PDT_2024\n",
            "Cuda compilation tools, release 12.5, V12.5.82\n",
            "Build cuda_12.5.r12.5/compiler.34385749_0\n"
          ]
        }
      ]
    },
    {
      "cell_type": "code",
      "execution_count": null,
      "metadata": {
        "id": "R0wFnktA14bS"
      },
      "outputs": [],
      "source": [
        "CUDA_DEVICE_ID = 0  # change if needed"
      ]
    },
    {
      "cell_type": "code",
      "execution_count": null,
      "metadata": {
        "id": "nPG1KbQAgl8b"
      },
      "outputs": [],
      "source": [
        "# do not change the code in the block below\n",
        "# __________start of block__________\n",
        "device = (\n",
        "    torch.device(f\"cuda:{CUDA_DEVICE_ID}\") if torch.cuda.is_available() else torch.device(\"cpu\")\n",
        ")\n",
        "# __________end of block__________"
      ]
    },
    {
      "cell_type": "code",
      "execution_count": null,
      "metadata": {
        "id": "aYcL28OsgSq8",
        "colab": {
          "base_uri": "https://localhost:8080/",
          "height": 539
        },
        "outputId": "c4ad986d-66cc-4e54-8766-35a72beb8dd7"
      },
      "outputs": [
        {
          "output_type": "stream",
          "name": "stderr",
          "text": [
            "100%|██████████| 26.4M/26.4M [00:02<00:00, 12.8MB/s]\n",
            "100%|██████████| 29.5k/29.5k [00:00<00:00, 201kB/s]\n",
            "100%|██████████| 4.42M/4.42M [00:01<00:00, 3.76MB/s]\n",
            "100%|██████████| 5.15k/5.15k [00:00<00:00, 10.9MB/s]\n"
          ]
        },
        {
          "output_type": "execute_result",
          "data": {
            "text/plain": [
              "Text(0.5, 1.0, 'Image label: 8')"
            ]
          },
          "metadata": {},
          "execution_count": 8
        },
        {
          "output_type": "display_data",
          "data": {
            "text/plain": [
              "<Figure size 640x480 with 1 Axes>"
            ],
            "image/png": "[encoded data removed]"
          },
          "metadata": {}
        }
      ],
      "source": [
        "# do not change the code in the block below\n",
        "# __________start of block__________\n",
        "\n",
        "train_fmnist_data = FashionMNIST(\n",
        "    \".\", train=True, transform=torchvision.transforms.ToTensor(), download=True\n",
        ")\n",
        "test_fmnist_data = FashionMNIST(\n",
        "    \".\", train=False, transform=torchvision.transforms.ToTensor(), download=True\n",
        ")\n",
        "\n",
        "\n",
        "train_data_loader = torch.utils.data.DataLoader(\n",
        "    train_fmnist_data, batch_size=32, shuffle=True, num_workers=2\n",
        ")\n",
        "\n",
        "test_data_loader = torch.utils.data.DataLoader(\n",
        "    test_fmnist_data, batch_size=32, shuffle=False, num_workers=2\n",
        ")\n",
        "\n",
        "random_batch = next(iter(train_data_loader))\n",
        "_image, _label = random_batch[0][0], random_batch[1][0]\n",
        "plt.figure()\n",
        "plt.imshow(_image.reshape(28, 28))\n",
        "plt.title(f\"Image label: {_label}\")\n",
        "# __________end of block__________"
      ]
    },
    {
      "cell_type": "markdown",
      "metadata": {
        "id": "S6jWRv1rgSq8"
      },
      "source": [
        "Постройте модель ниже. Пожалуйста, не стройте переусложненную сеть, не стоит делать ее глубже четырех слоев (можно и меньше). Ваша основная задача – обучить модель и получить качество на отложенной (тестовой выборке) не менее 88.5% accuracy.\n",
        "\n",
        "__Внимание, ваша модель должна быть представлена именно переменной `model_task_1`. На вход ей должен приходить тензор размерностью (1, 28, 28).__"
      ]
    },
    {
      "cell_type": "code",
      "execution_count": null,
      "metadata": {
        "id": "BcyEFX-RgSq8"
      },
      "outputs": [],
      "source": [
        "# Creating model instance\n",
        "\n",
        "# your code here\n",
        "\n",
        "# class for cnn building\n",
        "# nn.Module - base class\n",
        "class cnn_model(nn.Module):\n",
        "  def __init__(self):\n",
        "    super().__init__() # function for creating an object of base class\n",
        "    # number of layers increased by 32 (it made accuracy higher)\n",
        "    self.layer1 = nn.Sequential(nn.Conv2d(1, 32, kernel_size=5, stride=1, padding=2), nn.ReLU(), nn.MaxPool2d(kernel_size=2, stride=2))\n",
        "    self.layer2 = nn.Sequential(nn.Conv2d(32, 64, kernel_size=5, stride=1, padding=2), nn.ReLU(), nn.MaxPool2d(kernel_size=2, stride=2))\n",
        "    self.drop_out = nn.Dropout()\n",
        "    self.fc1 = nn.Linear(64 * 7 * 7, 1000)\n",
        "    self.fc2 = nn.Linear(1000, 10)\n",
        "  def forward(self, x):\n",
        "    x = self.layer1(x)\n",
        "    x = self.layer2(x)\n",
        "    x = x.reshape(x.size(0), -1)\n",
        "    x = self.drop_out(x)\n",
        "    x = self.fc1(x)\n",
        "    x = self.fc2(x)\n",
        "    return x\n",
        "\n",
        "model_task_1 = cnn_model()"
      ]
    },
    {
      "cell_type": "markdown",
      "metadata": {
        "id": "bAoLV4dkoy5M"
      },
      "source": [
        "Не забудьте перенести модель на выбранный `device`!"
      ]
    },
    {
      "cell_type": "code",
      "execution_count": null,
      "metadata": {
        "id": "Xas9SIXDoxvZ",
        "colab": {
          "base_uri": "https://localhost:8080/"
        },
        "outputId": "ebe79c33-565a-4267-87ac-cbdef1c256c5"
      },
      "outputs": [
        {
          "output_type": "execute_result",
          "data": {
            "text/plain": [
              "cnn_model(\n",
              "  (layer1): Sequential(\n",
              "    (0): Conv2d(1, 32, kernel_size=(5, 5), stride=(1, 1), padding=(2, 2))\n",
              "    (1): ReLU()\n",
              "    (2): MaxPool2d(kernel_size=2, stride=2, padding=0, dilation=1, ceil_mode=False)\n",
              "  )\n",
              "  (layer2): Sequential(\n",
              "    (0): Conv2d(32, 64, kernel_size=(5, 5), stride=(1, 1), padding=(2, 2))\n",
              "    (1): ReLU()\n",
              "    (2): MaxPool2d(kernel_size=2, stride=2, padding=0, dilation=1, ceil_mode=False)\n",
              "  )\n",
              "  (drop_out): Dropout(p=0.5, inplace=False)\n",
              "  (fc1): Linear(in_features=3136, out_features=1000, bias=True)\n",
              "  (fc2): Linear(in_features=1000, out_features=10, bias=True)\n",
              ")"
            ]
          },
          "metadata": {},
          "execution_count": 33
        }
      ],
      "source": [
        "model_task_1.to(device)"
      ]
    },
    {
      "cell_type": "markdown",
      "metadata": {
        "id": "6pLRWysggSq9"
      },
      "source": [
        "Локальные тесты для проверки вашей модели доступны ниже:"
      ]
    },
    {
      "cell_type": "code",
      "execution_count": null,
      "metadata": {
        "id": "_qMQzo1ggSq9",
        "colab": {
          "base_uri": "https://localhost:8080/"
        },
        "outputId": "c6b1afbc-4489-4e8e-fa10-f22f96b99bae"
      },
      "outputs": [
        {
          "output_type": "stream",
          "name": "stdout",
          "text": [
            "Everything seems fine!\n"
          ]
        }
      ],
      "source": [
        "# do not change the code in the block below\n",
        "# __________start of block__________\n",
        "assert model_task_1 is not None, \"Please, use `model_task_1` variable to store your model\"\n",
        "\n",
        "try:\n",
        "    x = random_batch[0].to(device)\n",
        "    y = random_batch[1].to(device)\n",
        "\n",
        "    # compute outputs given inputs, both are variables\n",
        "    y_predicted = model_task_1(x)\n",
        "except Exception as e:\n",
        "    print(\"Something is wrong with the model\")\n",
        "    raise e\n",
        "\n",
        "\n",
        "assert y_predicted.shape[-1] == 10, \"Model should predict 10 logits/probas\"\n",
        "\n",
        "print(\"Everything seems fine!\")\n",
        "# __________end of block__________"
      ]
    },
    {
      "cell_type": "markdown",
      "metadata": {
        "id": "suRmIPwIgSq9"
      },
      "source": [
        "Настройте параметры модели на обучающей выборке. Также рекомендуем поработать с `learning rate`."
      ]
    },
    {
      "cell_type": "code",
      "source": [
        "print(torch.cuda.is_available())  # True, если CUDA доступна\n",
        "print(torch.cuda.device_count())  # Сколько GPU доступно\n",
        "print(torch.cuda.current_device())  # Текущий активный GPU\n",
        "print(torch.cuda.get_device_name(0))  # Имя GPU с ID 0\n"
      ],
      "metadata": {
        "colab": {
          "base_uri": "https://localhost:8080/"
        },
        "id": "IXAFYaO4hucz",
        "outputId": "9c86cca2-ff8e-4c7e-e5a5-079b4fef6753"
      },
      "execution_count": null,
      "outputs": [
        {
          "output_type": "stream",
          "name": "stdout",
          "text": [
            "True\n",
            "1\n",
            "0\n",
            "Tesla T4\n"
          ]
        }
      ]
    },
    {
      "cell_type": "code",
      "execution_count": null,
      "metadata": {
        "id": "YJnU14bdnZa_",
        "colab": {
          "base_uri": "https://localhost:8080/"
        },
        "outputId": "5eeb4064-f19e-4226-d568-776991b4f4e3"
      },
      "outputs": [
        {
          "output_type": "stream",
          "name": "stdout",
          "text": [
            "Epoch 1 Loss: 0.03716523200273514\n",
            "Epoch 1 Loss: 0.14477622509002686\n",
            "Epoch 1 Loss: 0.09596911072731018\n",
            "Epoch 1 Loss: 0.12061919271945953\n",
            "Epoch 1 Loss: 0.16824975609779358\n",
            "Epoch 1 Loss: 0.0764080360531807\n",
            "Epoch 1 Loss: 0.11620404571294785\n",
            "Epoch 1 Loss: 0.5576054453849792\n",
            "Epoch 1 Loss: 0.05344502627849579\n",
            "Epoch 1 Loss: 0.09152406454086304\n",
            "Epoch 1 Loss: 0.14650623500347137\n",
            "Epoch 1 Loss: 0.09537240117788315\n",
            "Epoch 1 Loss: 0.10863450914621353\n",
            "Epoch 1 Loss: 0.058473143726587296\n",
            "Epoch 1 Loss: 0.03554973006248474\n",
            "Epoch 1 Loss: 0.06230272352695465\n",
            "Epoch 1 Loss: 0.09847483038902283\n",
            "Epoch 1 Loss: 0.1413354128599167\n",
            "Epoch 1 Loss: 0.019642164930701256\n",
            "Epoch 2 Loss: 0.24724501371383667\n",
            "Epoch 2 Loss: 0.0353928841650486\n",
            "Epoch 2 Loss: 0.14392778277397156\n",
            "Epoch 2 Loss: 0.16570264101028442\n",
            "Epoch 2 Loss: 0.0807964876294136\n",
            "Epoch 2 Loss: 0.27283090353012085\n",
            "Epoch 2 Loss: 0.0863756537437439\n",
            "Epoch 2 Loss: 0.15045621991157532\n",
            "Epoch 2 Loss: 0.07117517292499542\n",
            "Epoch 2 Loss: 0.11131173372268677\n",
            "Epoch 2 Loss: 0.15539409220218658\n",
            "Epoch 2 Loss: 0.05892237648367882\n",
            "Epoch 2 Loss: 0.10780137777328491\n",
            "Epoch 2 Loss: 0.2395583987236023\n",
            "Epoch 2 Loss: 0.09967419505119324\n",
            "Epoch 2 Loss: 0.16685575246810913\n",
            "Epoch 2 Loss: 0.04800860583782196\n",
            "Epoch 2 Loss: 0.06083211675286293\n",
            "Epoch 2 Loss: 0.016317622736096382\n",
            "Epoch 3 Loss: 0.11220423132181168\n",
            "Epoch 3 Loss: 0.03812941908836365\n",
            "Epoch 3 Loss: 0.3531157970428467\n",
            "Epoch 3 Loss: 0.11023850739002228\n",
            "Epoch 3 Loss: 0.2513062059879303\n",
            "Epoch 3 Loss: 0.06269320845603943\n",
            "Epoch 3 Loss: 0.1607266068458557\n",
            "Epoch 3 Loss: 0.07629736512899399\n",
            "Epoch 3 Loss: 0.05409882590174675\n",
            "Epoch 3 Loss: 0.09571085125207901\n",
            "Epoch 3 Loss: 0.10193213820457458\n",
            "Epoch 3 Loss: 0.07284649461507797\n",
            "Epoch 3 Loss: 0.1187489926815033\n",
            "Epoch 3 Loss: 0.04446910694241524\n",
            "Epoch 3 Loss: 0.055843595415353775\n",
            "Epoch 3 Loss: 0.24788837134838104\n",
            "Epoch 3 Loss: 0.06207819655537605\n",
            "Epoch 3 Loss: 0.25931185483932495\n",
            "Epoch 3 Loss: 0.2220691442489624\n",
            "Epoch 4 Loss: 0.15578651428222656\n",
            "Epoch 4 Loss: 0.0966605693101883\n",
            "Epoch 4 Loss: 0.31506049633026123\n",
            "Epoch 4 Loss: 0.039091501384973526\n",
            "Epoch 4 Loss: 0.064265176653862\n",
            "Epoch 4 Loss: 0.13803496956825256\n",
            "Epoch 4 Loss: 0.09158210456371307\n",
            "Epoch 4 Loss: 0.14286315441131592\n",
            "Epoch 4 Loss: 0.011728531681001186\n",
            "Epoch 4 Loss: 0.41624128818511963\n",
            "Epoch 4 Loss: 0.05467472970485687\n",
            "Epoch 4 Loss: 0.08305042237043381\n",
            "Epoch 4 Loss: 0.3831828534603119\n",
            "Epoch 4 Loss: 0.06771393120288849\n",
            "Epoch 4 Loss: 0.10455308854579926\n",
            "Epoch 4 Loss: 0.05518278107047081\n",
            "Epoch 4 Loss: 0.08360688388347626\n",
            "Epoch 4 Loss: 0.15300549566745758\n",
            "Epoch 4 Loss: 0.22696822881698608\n",
            "Epoch 5 Loss: 0.0717669129371643\n",
            "Epoch 5 Loss: 0.1332108974456787\n",
            "Epoch 5 Loss: 0.06597945839166641\n",
            "Epoch 5 Loss: 0.13459309935569763\n",
            "Epoch 5 Loss: 0.030778035521507263\n",
            "Epoch 5 Loss: 0.10433350503444672\n",
            "Epoch 5 Loss: 0.08275598287582397\n",
            "Epoch 5 Loss: 0.15179403126239777\n",
            "Epoch 5 Loss: 0.07786044478416443\n",
            "Epoch 5 Loss: 0.16502776741981506\n",
            "Epoch 5 Loss: 0.10580947995185852\n",
            "Epoch 5 Loss: 0.20863279700279236\n",
            "Epoch 5 Loss: 0.222269207239151\n",
            "Epoch 5 Loss: 0.08293348550796509\n",
            "Epoch 5 Loss: 0.15224647521972656\n",
            "Epoch 5 Loss: 0.13946381211280823\n",
            "Epoch 5 Loss: 0.2432851642370224\n",
            "Epoch 5 Loss: 0.1445932388305664\n",
            "Epoch 5 Loss: 0.010373280383646488\n",
            "Epoch 6 Loss: 0.03155803680419922\n",
            "Epoch 6 Loss: 0.10152260214090347\n",
            "Epoch 6 Loss: 0.04980214312672615\n",
            "Epoch 6 Loss: 0.03533254563808441\n",
            "Epoch 6 Loss: 0.17013950645923615\n",
            "Epoch 6 Loss: 0.023469800129532814\n",
            "Epoch 6 Loss: 0.06725962460041046\n",
            "Epoch 6 Loss: 0.06643660366535187\n",
            "Epoch 6 Loss: 0.162690207362175\n",
            "Epoch 6 Loss: 0.1811882108449936\n",
            "Epoch 6 Loss: 0.11432027071714401\n",
            "Epoch 6 Loss: 0.19742463529109955\n",
            "Epoch 6 Loss: 0.23486454784870148\n",
            "Epoch 6 Loss: 0.0538979098200798\n",
            "Epoch 6 Loss: 0.27119165658950806\n",
            "Epoch 6 Loss: 0.0932643935084343\n",
            "Epoch 6 Loss: 0.018147440627217293\n",
            "Epoch 6 Loss: 0.10017651319503784\n",
            "Epoch 6 Loss: 0.21572789549827576\n",
            "Epoch 7 Loss: 0.0531151220202446\n",
            "Epoch 7 Loss: 0.032319989055395126\n",
            "Epoch 7 Loss: 0.27676838636398315\n",
            "Epoch 7 Loss: 0.11029533296823502\n",
            "Epoch 7 Loss: 0.13718022406101227\n",
            "Epoch 7 Loss: 0.025355730205774307\n",
            "Epoch 7 Loss: 0.12410230934619904\n",
            "Epoch 7 Loss: 0.06006014719605446\n",
            "Epoch 7 Loss: 0.03597458451986313\n",
            "Epoch 7 Loss: 0.042403534054756165\n",
            "Epoch 7 Loss: 0.035844236612319946\n",
            "Epoch 7 Loss: 0.1171540692448616\n",
            "Epoch 7 Loss: 0.03241410106420517\n",
            "Epoch 7 Loss: 0.11251239478588104\n",
            "Epoch 7 Loss: 0.12993937730789185\n",
            "Epoch 7 Loss: 0.08736252784729004\n",
            "Epoch 7 Loss: 0.08636303246021271\n",
            "Epoch 7 Loss: 0.14213652908802032\n",
            "Epoch 7 Loss: 0.07205748558044434\n",
            "Epoch 8 Loss: 0.018195055425167084\n",
            "Epoch 8 Loss: 0.0729345828294754\n",
            "Epoch 8 Loss: 0.12406572699546814\n",
            "Epoch 8 Loss: 0.03918090835213661\n",
            "Epoch 8 Loss: 0.17172613739967346\n",
            "Epoch 8 Loss: 0.16459226608276367\n",
            "Epoch 8 Loss: 0.009987193159759045\n",
            "Epoch 8 Loss: 0.08708860725164413\n",
            "Epoch 8 Loss: 0.09915968775749207\n",
            "Epoch 8 Loss: 0.007351793348789215\n",
            "Epoch 8 Loss: 0.1415460854768753\n",
            "Epoch 8 Loss: 0.11039270460605621\n",
            "Epoch 8 Loss: 0.13134898245334625\n",
            "Epoch 8 Loss: 0.11791336536407471\n",
            "Epoch 8 Loss: 0.04835840314626694\n",
            "Epoch 8 Loss: 0.10647989809513092\n",
            "Epoch 8 Loss: 0.007064556237310171\n",
            "Epoch 8 Loss: 0.06286776810884476\n",
            "Epoch 8 Loss: 0.027314692735671997\n",
            "Epoch 9 Loss: 0.1095125824213028\n",
            "Epoch 9 Loss: 0.06557970494031906\n",
            "Epoch 9 Loss: 0.16473910212516785\n",
            "Epoch 9 Loss: 0.2564864158630371\n",
            "Epoch 9 Loss: 0.01966760866343975\n",
            "Epoch 9 Loss: 0.1770843118429184\n",
            "Epoch 9 Loss: 0.17473530769348145\n",
            "Epoch 9 Loss: 0.0583234503865242\n",
            "Epoch 9 Loss: 0.1760704517364502\n",
            "Epoch 9 Loss: 0.1495102345943451\n",
            "Epoch 9 Loss: 0.06358275562524796\n",
            "Epoch 9 Loss: 0.16921350359916687\n",
            "Epoch 9 Loss: 0.051657602190971375\n",
            "Epoch 9 Loss: 0.0297812782227993\n",
            "Epoch 9 Loss: 0.045953989028930664\n",
            "Epoch 9 Loss: 0.0705418586730957\n",
            "Epoch 9 Loss: 0.14333373308181763\n",
            "Epoch 9 Loss: 0.07544534653425217\n",
            "Epoch 9 Loss: 0.04701140522956848\n",
            "Epoch 10 Loss: 0.16397897899150848\n",
            "Epoch 10 Loss: 0.06623964756727219\n",
            "Epoch 10 Loss: 0.10006851702928543\n",
            "Epoch 10 Loss: 0.06060263141989708\n",
            "Epoch 10 Loss: 0.06356529891490936\n",
            "Epoch 10 Loss: 0.1575506329536438\n",
            "Epoch 10 Loss: 0.03391117975115776\n",
            "Epoch 10 Loss: 0.10755042731761932\n",
            "Epoch 10 Loss: 0.12238883972167969\n",
            "Epoch 10 Loss: 0.1343909204006195\n",
            "Epoch 10 Loss: 0.14624503254890442\n",
            "Epoch 10 Loss: 0.07199545949697495\n",
            "Epoch 10 Loss: 0.10379767417907715\n",
            "Epoch 10 Loss: 0.14494313299655914\n",
            "Epoch 10 Loss: 0.13611137866973877\n",
            "Epoch 10 Loss: 0.036097683012485504\n",
            "Epoch 10 Loss: 0.07771073281764984\n",
            "Epoch 10 Loss: 0.03906755894422531\n",
            "Epoch 10 Loss: 0.028601644560694695\n"
          ]
        }
      ],
      "source": [
        "# your code here\n",
        "learning_rate = 0.001\n",
        "loss_function = nn.CrossEntropyLoss() # classic for n-class classification\n",
        "optimizer = torch.optim.SGD(model_task_1.parameters(), lr=learning_rate)\n",
        "epochs = 10\n",
        "for epoch in range(epochs):\n",
        "  for batch_idx, (images, labels) in enumerate(train_data_loader):\n",
        "    images = images.to(device) # for gpu\n",
        "    labels = labels.to(device) # for gpu\n",
        "    outputs = model_task_1(images) # forward pass\n",
        "    loss = loss_function(outputs, labels)\n",
        "\n",
        "    optimizer.zero_grad()\n",
        "    loss.backward() # backward pass\n",
        "    optimizer.step()\n",
        "\n",
        "    if (batch_idx % 100 == 0):\n",
        "      print(f\"Epoch {epoch + 1} \"\n",
        "            f\"Loss: {loss.item()}\")"
      ]
    },
    {
      "cell_type": "markdown",
      "metadata": {
        "id": "2zce7gt1gSq-"
      },
      "source": [
        "Также, напоминаем, что в любой момент можно обратиться к замечательной [документации](https://pytorch.org/docs/stable/index.html) и [обучающим примерам](https://pytorch.org/tutorials/).  "
      ]
    },
    {
      "cell_type": "markdown",
      "metadata": {
        "id": "usswrWYOgSq-"
      },
      "source": [
        "Оценим качество классификации:"
      ]
    },
    {
      "cell_type": "code",
      "execution_count": null,
      "metadata": {
        "id": "Xua3TVZHgSq-",
        "colab": {
          "base_uri": "https://localhost:8080/"
        },
        "outputId": "c24cbb6f-547e-4a80-85e0-bc66bb7525f9"
      },
      "outputs": [
        {
          "output_type": "stream",
          "name": "stdout",
          "text": [
            "Neural network accuracy on train set: 0.96287\n"
          ]
        }
      ],
      "source": [
        "train_acc_task_1 = get_accuracy(model_task_1, train_data_loader)\n",
        "print(f\"Neural network accuracy on train set: {train_acc_task_1:3.5}\")\n",
        "# learning rate = 0.01    0.80715"
      ]
    },
    {
      "cell_type": "code",
      "execution_count": null,
      "metadata": {
        "id": "l9KEKXBxgSq-",
        "colab": {
          "base_uri": "https://localhost:8080/"
        },
        "outputId": "6b6fee13-795f-483f-d7b7-bc55e1db79eb"
      },
      "outputs": [
        {
          "output_type": "stream",
          "name": "stdout",
          "text": [
            "Neural network accuracy on test set: 0.9186\n"
          ]
        }
      ],
      "source": [
        "test_acc_task_1 = get_accuracy(model_task_1, test_data_loader)\n",
        "print(f\"Neural network accuracy on test set: {test_acc_task_1:3.5}\")\n",
        "# learning rate = 0.01    0.799"
      ]
    },
    {
      "cell_type": "markdown",
      "metadata": {
        "id": "4oyhmMobgSq_"
      },
      "source": [
        "Проверка, что необходимые пороги пройдены:"
      ]
    },
    {
      "cell_type": "code",
      "execution_count": null,
      "metadata": {
        "id": "OAIrURCEgSq_"
      },
      "outputs": [],
      "source": [
        "assert test_acc_task_1 >= 0.885, \"Train accuracy is below 0.885 threshold\"\n",
        "assert (\n",
        "    train_acc_task_1 >= 0.905\n",
        "), \"Train accuracy is below 0.905 while test accuracy is fine. We recommend to check your model and data flow\""
      ]
    },
    {
      "cell_type": "markdown",
      "metadata": {
        "id": "R22beCGr14bU"
      },
      "source": [
        "Обращаем внимане, код ниже предполагает, что ваша модель имеет содержится в переменной `model_task_1`, а файл `hw_fmnist_data_dict.npy` находится в той же директории, что и ноутбук (он доступен в репозитории)."
      ]
    },
    {
      "cell_type": "code",
      "execution_count": null,
      "metadata": {
        "id": "lY000uF414bU",
        "colab": {
          "base_uri": "https://localhost:8080/"
        },
        "outputId": "ddfcf269-9cc9-4fc3-8fc8-1f40b6ad6b6b"
      },
      "outputs": [
        {
          "output_type": "stream",
          "name": "stdout",
          "text": [
            "File saved to `submission_dict_fmnist_task_1.json`\n"
          ]
        }
      ],
      "source": [
        "# do not change the code in the block below\n",
        "# __________start of block__________\n",
        "assert os.path.exists(\n",
        "    \"hw_fmnist_data_dict.npy\"\n",
        "), \"Please, download `hw_fmnist_data_dict.npy` and place it in the working directory\"\n",
        "\n",
        "loaded_data_dict = np.load(\"hw_fmnist_data_dict.npy\", allow_pickle=True)\n",
        "\n",
        "submission_dict = {\n",
        "    \"train_predictions_task_1\": get_predictions(\n",
        "        model_task_1, torch.FloatTensor(loaded_data_dict.item()[\"train\"])\n",
        "    ),\n",
        "    \"test_predictions_task_1\": get_predictions(\n",
        "        model_task_1, torch.FloatTensor(loaded_data_dict.item()[\"test\"])\n",
        "    ),\n",
        "}\n",
        "\n",
        "with open(\"submission_dict_fmnist_task_1.json\", \"w\") as iofile:\n",
        "    json.dump(submission_dict, iofile)\n",
        "print(\"File saved to `submission_dict_fmnist_task_1.json`\")\n",
        "# __________end of block__________"
      ]
    },
    {
      "cell_type": "markdown",
      "metadata": {
        "id": "yaKHQG1H14bU"
      },
      "source": [
        "### Сдача задания\n",
        "Сдайте сгенерированный файл в соответствующую задачу в соревновании, а именно:\n",
        "    \n",
        "* `submission_dict_fmnist_task_1.json` в задачу Separation"
      ]
    },
    {
      "cell_type": "markdown",
      "metadata": {
        "id": "OtWnYAN_gSrA"
      },
      "source": [
        "На этом задание завершено. Поздравляем!"
      ]
    }
  ],
  "metadata": {
    "accelerator": "GPU",
    "colab": {
      "gpuType": "T4",
      "provenance": [],
      "include_colab_link": true
    },
    "kernelspec": {
      "display_name": "Python 3",
      "name": "python3"
    },
    "language_info": {
      "codemirror_mode": {
        "name": "ipython",
        "version": 3
      },
      "file_extension": ".py",
      "mimetype": "text/x-python",
      "name": "python",
      "nbconvert_exporter": "python",
      "pygments_lexer": "ipython3",
      "version": "3.8.19"
    },
    "toc": {
      "base_numbering": 1,
      "nav_menu": {},
      "number_sections": true,
      "sideBar": true,
      "skip_h1_title": false,
      "title_cell": "Table of Contents",
      "title_sidebar": "Contents",
      "toc_cell": false,
      "toc_position": {},
      "toc_section_display": true,
      "toc_window_display": false
    },
    "vscode": {
      "interpreter": {
        "hash": "21499ab2a6726e29f7050b76af0e9680227e613293d630ba279de7ebdfad9cae"
      }
    }
  },
  "nbformat": 4,
  "nbformat_minor": 0
}