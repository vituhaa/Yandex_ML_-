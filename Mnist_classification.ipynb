{
  "cells": [
    {
      "cell_type": "markdown",
      "metadata": {
        "id": "view-in-github",
        "colab_type": "text"
      },
      "source": [
        "<a href=\"https://colab.research.google.com/github/vituhaa/Yandex_ML_-/blob/main/Mnist_classification.ipynb\" target=\"_parent\"><img src=\"https://colab.research.google.com/assets/colab-badge.svg\" alt=\"Open In Colab\"/></a>"
      ]
    },
    {
      "cell_type": "markdown",
      "metadata": {
        "id": "GYUNn8UMYI5e"
      },
      "source": [
        "## Классификация MNIST\n",
        "\n",
        "##### Автор: [Радослав Нейчев](https://www.linkedin.com/in/radoslav-neychev/), https://t.me/s/girafe_ai"
      ]
    },
    {
      "cell_type": "code",
      "execution_count": null,
      "metadata": {
        "id": "yIYDmK7TYI5f"
      },
      "outputs": [],
      "source": [
        "import numpy as np\n",
        "\n",
        "import torch\n",
        "from torch import nn\n",
        "from torch.nn import functional as F\n",
        "\n",
        "import torchvision\n",
        "from torchvision.datasets import MNIST\n",
        "\n",
        "from matplotlib import pyplot as plt\n",
        "from IPython.display import clear_output"
      ]
    },
    {
      "cell_type": "markdown",
      "metadata": {
        "id": "1dmXMM-EYI5g"
      },
      "source": [
        "Давайте обратимся к классической задаче распознавания рукописных цифр. Мы будем работать с набором данных [MNIST](http://yann.lecun.com/exdb/mnist/). В этом задании мы воспользуемся всем датасетом целиком.\n",
        "\n",
        "__Ваша основная задача: реализовать весь пайплайн обучения модели и добиться качества $\\geq 92\\%$ на тестовой выборке.__\n",
        "\n",
        "Код для обучения модели в данном задании отсутствует. Присутствует лишь несколько тестов, которые помогут вам отладить свое решение. За примером можно обратиться к ноутбуку с первого занятия.\n",
        "\n",
        "Мы настоятельно рекомендуем писать код «с нуля», лишь изредка подглядывая в готовые примеры, а не просто «копировать-вставлять». Это поможет вам в будущем."
      ]
    },
    {
      "cell_type": "code",
      "execution_count": null,
      "metadata": {
        "id": "tdCYvvLvYI5g",
        "colab": {
          "base_uri": "https://localhost:8080/",
          "height": 469
        },
        "outputId": "df564f72-5d92-4af4-fd56-de35ce45ea7f"
      },
      "outputs": [
        {
          "output_type": "execute_result",
          "data": {
            "text/plain": [
              "Text(0.5, 1.0, 'Image label: 6')"
            ]
          },
          "metadata": {},
          "execution_count": 2
        },
        {
          "output_type": "display_data",
          "data": {
            "text/plain": [
              "<Figure size 640x480 with 1 Axes>"
            ],
            "image/png": "[encoded data removed]"
          },
          "metadata": {}
        }
      ],
      "source": [
        "# do not change the code in the block below\n",
        "# __________start of block__________\n",
        "\n",
        "train_mnist_data = MNIST('.', train=True, transform=torchvision.transforms.ToTensor(), download=True)\n",
        "test_mnist_data = MNIST('.', train=False, transform=torchvision.transforms.ToTensor(), download=True)\n",
        "\n",
        "\n",
        "train_data_loader = torch.utils.data.DataLoader(\n",
        "    train_mnist_data,\n",
        "    batch_size=32,\n",
        "    shuffle=True,\n",
        "    num_workers=2\n",
        ")\n",
        "\n",
        "test_data_loader = torch.utils.data.DataLoader(\n",
        "    test_mnist_data,\n",
        "    batch_size=32,\n",
        "    shuffle=False,\n",
        "    num_workers=2\n",
        ")\n",
        "\n",
        "random_batch = next(iter(train_data_loader))\n",
        "_image, _label = random_batch[0][0], random_batch[1][0]\n",
        "plt.figure()\n",
        "plt.imshow(_image.reshape(28, 28))\n",
        "plt.title(f'Image label: {_label}')\n",
        "# __________end of block__________"
      ]
    },
    {
      "cell_type": "markdown",
      "metadata": {
        "id": "8dCCrLG7YI5h"
      },
      "source": [
        "Постройте модель, представленную ниже. Пожалуйста, не создавайте чрезмерно сложную сеть — она не должна быть глубже четырёх слоёв (можно и меньше). Ваша основная задача — обучить модель и добиться как минимум 92% точности на тестовой выборке (hold-out выборке).\n",
        "\n",
        "*Примечание: линейных слоёв и функций активации должно быть достаточно.*\n",
        "\n",
        "__Обратите внимание, ваша модель должна быть представлена переменной `model`__"
      ]
    },
    {
      "cell_type": "code",
      "execution_count": null,
      "metadata": {
        "id": "Vdgk1AvVYI5h"
      },
      "outputs": [],
      "source": [
        "\n",
        "# класс для построения нейросети.\n",
        "# Чтобы создать нейронную сеть в PyTorch, используется класс nn.Module.\n",
        "# Чтобы им воспользоваться, необходимо наследование, что позволит использовать весь функционал базового класса nn.Module,\n",
        "# но при этом еще имеется возможность переписать базовый класс для конструирования модели или прямого прохождения через сеть.\n",
        "class mlp(nn.Module):\n",
        "  def __init__(self):\n",
        "    super().__init__() # функция создает объект базового класса\n",
        "    # создаем полностью соединенные слои\n",
        "    # Полностью соединенный слой нейронной сети представлен объектом nn.Linear, в котором первый аргумент — определение количества узлов в i-том слое, а второй — количество узлов в i+1 слое.\n",
        "    self.fc1 = nn.Linear(28*28, 200)\n",
        "    self.fc2 = nn.Linear(200, 200)\n",
        "    self.fc3 = nn.Linear(200, 10)\n",
        "\n",
        "\n",
        "  # После определения скелета архитектуры сети, необходимо задать принципы, по которым данные будут перемещаться по ней.\n",
        "  # Это делается с помощью определяемого метода forward(),  который переписывает фиктивный метод в базовом классе и требует определения для каждой сети\n",
        "  # Для метода forward() берем входные данные x в качестве основного аргумента.\n",
        "  # Далее, загружаем всё в в первый полностью соединенный слой self.fc1(x) и применяем активационную функцию ReLU для узлов в этом слое, используя F.relu().\n",
        "  # Из-за иерархической природы этой нейронной сети, заменяем x на каждой стадии и отправляем на следующий слой. Делаем эту процедуру на трех соединенных слоях, за исключением последнего.\n",
        "  # На последнем слое возвращаем не ReLU, а логарифмическую softmax активационную функцию. Это, в комбинации с функцией потери отрицательного логарифмического правдоподобия, дает\n",
        "  # многоклассовую на основе кросс-энтропии функцию потерь, которую мы будет использовать для тренировки сети.\n",
        "  def forward(self, x):\n",
        "    x = F.relu(self.fc1(x))\n",
        "    x = F.relu(self.fc2(x))\n",
        "    x = self.fc3(x)\n",
        "    return F.log_softmax(x, dim=1)\n",
        "\n",
        "model = mlp() # создание экземпляра (instance) этой архитектуры"
      ]
    },
    {
      "cell_type": "markdown",
      "metadata": {
        "id": "ZyoxFSWIYI5h"
      },
      "source": [
        "Ниже доступны локальные тесты для проверки вашей модели:"
      ]
    },
    {
      "cell_type": "code",
      "execution_count": null,
      "metadata": {
        "id": "YY8VLWuHYI5h",
        "colab": {
          "base_uri": "https://localhost:8080/"
        },
        "outputId": "7b5514ba-fdc0-4d4f-e450-e5250e128dca"
      },
      "outputs": [
        {
          "output_type": "stream",
          "name": "stdout",
          "text": [
            "Everything seems fine!\n"
          ]
        }
      ],
      "source": [
        "# do not change the code in the block below\n",
        "# __________start of block__________\n",
        "assert model is not None, 'Please, use `model` variable to store your model'\n",
        "\n",
        "try:\n",
        "    x = random_batch[0].reshape(-1, 784)\n",
        "    y = random_batch[1]\n",
        "\n",
        "    # compute outputs given inputs, both are variables\n",
        "    y_predicted = model(x)\n",
        "except Exception as e:\n",
        "    print('Something is wrong with the model')\n",
        "    raise e\n",
        "\n",
        "\n",
        "assert y_predicted.shape[-1] == 10, 'Model should predict 10 logits/probas'\n",
        "\n",
        "print('Everything seems fine!')\n",
        "# __________end of block__________"
      ]
    },
    {
      "cell_type": "markdown",
      "metadata": {
        "id": "kjiisXwwYI5i"
      },
      "source": [
        "Обучите модель на обучающей выборке. Рекомендуем поэкспериментировать с различными оптимизаторами.\n"
      ]
    },
    {
      "cell_type": "code",
      "execution_count": null,
      "metadata": {
        "id": "YtlNvGkwYI5i",
        "colab": {
          "base_uri": "https://localhost:8080/"
        },
        "outputId": "6e150ea1-a0a2-4c06-85d2-86a345ff5d22"
      },
      "outputs": [
        {
          "output_type": "stream",
          "name": "stdout",
          "text": [
            "Epoch 1 [0/60000] Loss: 2.284314\n",
            "Epoch 1 [3200/60000] Loss: 0.962919\n",
            "Epoch 1 [6400/60000] Loss: 0.331532\n",
            "Epoch 1 [9600/60000] Loss: 0.768535\n",
            "Epoch 1 [12800/60000] Loss: 0.343119\n",
            "Epoch 1 [16000/60000] Loss: 0.402709\n",
            "Epoch 1 [19200/60000] Loss: 0.257761\n",
            "Epoch 1 [22400/60000] Loss: 0.264786\n",
            "Epoch 1 [25600/60000] Loss: 0.390902\n",
            "Epoch 1 [28800/60000] Loss: 0.085976\n",
            "Epoch 1 [32000/60000] Loss: 0.108729\n",
            "Epoch 1 [35200/60000] Loss: 0.318544\n",
            "Epoch 1 [38400/60000] Loss: 0.163669\n",
            "Epoch 1 [41600/60000] Loss: 0.180163\n",
            "Epoch 1 [44800/60000] Loss: 0.129583\n",
            "Epoch 1 [48000/60000] Loss: 0.252280\n",
            "Epoch 1 [51200/60000] Loss: 0.048322\n",
            "Epoch 1 [54400/60000] Loss: 0.103879\n",
            "Epoch 1 [57600/60000] Loss: 0.176202\n",
            "Epoch 2 [0/60000] Loss: 0.061822\n",
            "Epoch 2 [3200/60000] Loss: 0.141693\n",
            "Epoch 2 [6400/60000] Loss: 0.129454\n",
            "Epoch 2 [9600/60000] Loss: 0.100751\n",
            "Epoch 2 [12800/60000] Loss: 0.066967\n",
            "Epoch 2 [16000/60000] Loss: 0.054937\n",
            "Epoch 2 [19200/60000] Loss: 0.055844\n",
            "Epoch 2 [22400/60000] Loss: 0.305614\n",
            "Epoch 2 [25600/60000] Loss: 0.028594\n",
            "Epoch 2 [28800/60000] Loss: 0.439342\n",
            "Epoch 2 [32000/60000] Loss: 0.013257\n",
            "Epoch 2 [35200/60000] Loss: 0.038985\n",
            "Epoch 2 [38400/60000] Loss: 0.115861\n",
            "Epoch 2 [41600/60000] Loss: 0.018169\n",
            "Epoch 2 [44800/60000] Loss: 0.051484\n",
            "Epoch 2 [48000/60000] Loss: 0.127377\n",
            "Epoch 2 [51200/60000] Loss: 0.222718\n",
            "Epoch 2 [54400/60000] Loss: 0.114238\n",
            "Epoch 2 [57600/60000] Loss: 0.146912\n",
            "Epoch 3 [0/60000] Loss: 0.044010\n",
            "Epoch 3 [3200/60000] Loss: 0.133735\n",
            "Epoch 3 [6400/60000] Loss: 0.186283\n",
            "Epoch 3 [9600/60000] Loss: 0.200157\n",
            "Epoch 3 [12800/60000] Loss: 0.027719\n",
            "Epoch 3 [16000/60000] Loss: 0.028253\n",
            "Epoch 3 [19200/60000] Loss: 0.134286\n",
            "Epoch 3 [22400/60000] Loss: 0.277034\n",
            "Epoch 3 [25600/60000] Loss: 0.092386\n",
            "Epoch 3 [28800/60000] Loss: 0.056350\n",
            "Epoch 3 [32000/60000] Loss: 0.048043\n",
            "Epoch 3 [35200/60000] Loss: 0.177569\n",
            "Epoch 3 [38400/60000] Loss: 0.016596\n",
            "Epoch 3 [41600/60000] Loss: 0.049049\n",
            "Epoch 3 [44800/60000] Loss: 0.076694\n",
            "Epoch 3 [48000/60000] Loss: 0.105528\n",
            "Epoch 3 [51200/60000] Loss: 0.019283\n",
            "Epoch 3 [54400/60000] Loss: 0.003442\n",
            "Epoch 3 [57600/60000] Loss: 0.033861\n",
            "Epoch 4 [0/60000] Loss: 0.102779\n",
            "Epoch 4 [3200/60000] Loss: 0.016727\n",
            "Epoch 4 [6400/60000] Loss: 0.010096\n",
            "Epoch 4 [9600/60000] Loss: 0.135884\n",
            "Epoch 4 [12800/60000] Loss: 0.064035\n",
            "Epoch 4 [16000/60000] Loss: 0.148107\n",
            "Epoch 4 [19200/60000] Loss: 0.018282\n",
            "Epoch 4 [22400/60000] Loss: 0.070374\n",
            "Epoch 4 [25600/60000] Loss: 0.041882\n",
            "Epoch 4 [28800/60000] Loss: 0.041175\n",
            "Epoch 4 [32000/60000] Loss: 0.069752\n",
            "Epoch 4 [35200/60000] Loss: 0.052382\n",
            "Epoch 4 [38400/60000] Loss: 0.062244\n",
            "Epoch 4 [41600/60000] Loss: 0.010449\n",
            "Epoch 4 [44800/60000] Loss: 0.039064\n",
            "Epoch 4 [48000/60000] Loss: 0.066192\n",
            "Epoch 4 [51200/60000] Loss: 0.064743\n",
            "Epoch 4 [54400/60000] Loss: 0.269440\n",
            "Epoch 4 [57600/60000] Loss: 0.039368\n",
            "Epoch 5 [0/60000] Loss: 0.007933\n",
            "Epoch 5 [3200/60000] Loss: 0.040573\n",
            "Epoch 5 [6400/60000] Loss: 0.017687\n",
            "Epoch 5 [9600/60000] Loss: 0.007724\n",
            "Epoch 5 [12800/60000] Loss: 0.003939\n",
            "Epoch 5 [16000/60000] Loss: 0.008290\n",
            "Epoch 5 [19200/60000] Loss: 0.176690\n",
            "Epoch 5 [22400/60000] Loss: 0.020803\n",
            "Epoch 5 [25600/60000] Loss: 0.113764\n",
            "Epoch 5 [28800/60000] Loss: 0.009358\n",
            "Epoch 5 [32000/60000] Loss: 0.161636\n",
            "Epoch 5 [35200/60000] Loss: 0.082336\n",
            "Epoch 5 [38400/60000] Loss: 0.102451\n",
            "Epoch 5 [41600/60000] Loss: 0.124374\n",
            "Epoch 5 [44800/60000] Loss: 0.041624\n",
            "Epoch 5 [48000/60000] Loss: 0.041731\n",
            "Epoch 5 [51200/60000] Loss: 0.093865\n",
            "Epoch 5 [54400/60000] Loss: 0.012231\n",
            "Epoch 5 [57600/60000] Loss: 0.048657\n",
            "Epoch 6 [0/60000] Loss: 0.025792\n",
            "Epoch 6 [3200/60000] Loss: 0.011316\n",
            "Epoch 6 [6400/60000] Loss: 0.010207\n",
            "Epoch 6 [9600/60000] Loss: 0.005767\n",
            "Epoch 6 [12800/60000] Loss: 0.022778\n",
            "Epoch 6 [16000/60000] Loss: 0.040484\n",
            "Epoch 6 [19200/60000] Loss: 0.007027\n",
            "Epoch 6 [22400/60000] Loss: 0.040135\n",
            "Epoch 6 [25600/60000] Loss: 0.174767\n",
            "Epoch 6 [28800/60000] Loss: 0.016775\n",
            "Epoch 6 [32000/60000] Loss: 0.056899\n",
            "Epoch 6 [35200/60000] Loss: 0.007523\n",
            "Epoch 6 [38400/60000] Loss: 0.030504\n",
            "Epoch 6 [41600/60000] Loss: 0.014064\n",
            "Epoch 6 [44800/60000] Loss: 0.011307\n",
            "Epoch 6 [48000/60000] Loss: 0.012207\n",
            "Epoch 6 [51200/60000] Loss: 0.037897\n",
            "Epoch 6 [54400/60000] Loss: 0.059650\n",
            "Epoch 6 [57600/60000] Loss: 0.155100\n",
            "Epoch 7 [0/60000] Loss: 0.008493\n",
            "Epoch 7 [3200/60000] Loss: 0.054903\n",
            "Epoch 7 [6400/60000] Loss: 0.049803\n",
            "Epoch 7 [9600/60000] Loss: 0.007400\n",
            "Epoch 7 [12800/60000] Loss: 0.002177\n",
            "Epoch 7 [16000/60000] Loss: 0.016937\n",
            "Epoch 7 [19200/60000] Loss: 0.019242\n",
            "Epoch 7 [22400/60000] Loss: 0.017326\n",
            "Epoch 7 [25600/60000] Loss: 0.019659\n",
            "Epoch 7 [28800/60000] Loss: 0.005875\n",
            "Epoch 7 [32000/60000] Loss: 0.057021\n",
            "Epoch 7 [35200/60000] Loss: 0.050245\n",
            "Epoch 7 [38400/60000] Loss: 0.018467\n",
            "Epoch 7 [41600/60000] Loss: 0.004022\n",
            "Epoch 7 [44800/60000] Loss: 0.000765\n",
            "Epoch 7 [48000/60000] Loss: 0.024434\n",
            "Epoch 7 [51200/60000] Loss: 0.016456\n",
            "Epoch 7 [54400/60000] Loss: 0.003605\n",
            "Epoch 7 [57600/60000] Loss: 0.008678\n",
            "Epoch 8 [0/60000] Loss: 0.030039\n",
            "Epoch 8 [3200/60000] Loss: 0.029240\n",
            "Epoch 8 [6400/60000] Loss: 0.003046\n",
            "Epoch 8 [9600/60000] Loss: 0.008520\n",
            "Epoch 8 [12800/60000] Loss: 0.015481\n",
            "Epoch 8 [16000/60000] Loss: 0.002405\n",
            "Epoch 8 [19200/60000] Loss: 0.001012\n",
            "Epoch 8 [22400/60000] Loss: 0.053394\n",
            "Epoch 8 [25600/60000] Loss: 0.002533\n",
            "Epoch 8 [28800/60000] Loss: 0.050798\n",
            "Epoch 8 [32000/60000] Loss: 0.008280\n",
            "Epoch 8 [35200/60000] Loss: 0.086066\n",
            "Epoch 8 [38400/60000] Loss: 0.000273\n",
            "Epoch 8 [41600/60000] Loss: 0.047742\n",
            "Epoch 8 [44800/60000] Loss: 0.005285\n",
            "Epoch 8 [48000/60000] Loss: 0.017892\n",
            "Epoch 8 [51200/60000] Loss: 0.012584\n",
            "Epoch 8 [54400/60000] Loss: 0.076723\n",
            "Epoch 8 [57600/60000] Loss: 0.011709\n",
            "Epoch 9 [0/60000] Loss: 0.011141\n",
            "Epoch 9 [3200/60000] Loss: 0.038890\n",
            "Epoch 9 [6400/60000] Loss: 0.001973\n",
            "Epoch 9 [9600/60000] Loss: 0.138222\n",
            "Epoch 9 [12800/60000] Loss: 0.017189\n",
            "Epoch 9 [16000/60000] Loss: 0.086458\n",
            "Epoch 9 [19200/60000] Loss: 0.006761\n",
            "Epoch 9 [22400/60000] Loss: 0.041594\n",
            "Epoch 9 [25600/60000] Loss: 0.006266\n",
            "Epoch 9 [28800/60000] Loss: 0.010210\n",
            "Epoch 9 [32000/60000] Loss: 0.005058\n",
            "Epoch 9 [35200/60000] Loss: 0.034906\n",
            "Epoch 9 [38400/60000] Loss: 0.023683\n",
            "Epoch 9 [41600/60000] Loss: 0.003266\n",
            "Epoch 9 [44800/60000] Loss: 0.035225\n",
            "Epoch 9 [48000/60000] Loss: 0.038181\n",
            "Epoch 9 [51200/60000] Loss: 0.006478\n",
            "Epoch 9 [54400/60000] Loss: 0.003291\n",
            "Epoch 9 [57600/60000] Loss: 0.012070\n",
            "Epoch 10 [0/60000] Loss: 0.022588\n",
            "Epoch 10 [3200/60000] Loss: 0.013280\n",
            "Epoch 10 [6400/60000] Loss: 0.029662\n",
            "Epoch 10 [9600/60000] Loss: 0.013637\n",
            "Epoch 10 [12800/60000] Loss: 0.001732\n",
            "Epoch 10 [16000/60000] Loss: 0.002845\n",
            "Epoch 10 [19200/60000] Loss: 0.004366\n",
            "Epoch 10 [22400/60000] Loss: 0.000763\n",
            "Epoch 10 [25600/60000] Loss: 0.006094\n",
            "Epoch 10 [28800/60000] Loss: 0.090944\n",
            "Epoch 10 [32000/60000] Loss: 0.007876\n",
            "Epoch 10 [35200/60000] Loss: 0.004993\n",
            "Epoch 10 [38400/60000] Loss: 0.022735\n",
            "Epoch 10 [41600/60000] Loss: 0.059885\n",
            "Epoch 10 [44800/60000] Loss: 0.002573\n",
            "Epoch 10 [48000/60000] Loss: 0.220899\n",
            "Epoch 10 [51200/60000] Loss: 0.000317\n",
            "Epoch 10 [54400/60000] Loss: 0.038031\n",
            "Epoch 10 [57600/60000] Loss: 0.000247\n"
          ]
        }
      ],
      "source": [
        "# your code here\n",
        "\n",
        "# Далее необходимо задать метод оптимизации и критерий качества:\n",
        "# # Осуществляем оптимизацию путем стохастического градиентного спуска\n",
        "learning_rate = 0.01\n",
        "epochs = 10\n",
        "optimizer = torch.optim.SGD(model.parameters(), lr=learning_rate, momentum=0.9)\n",
        "# создаём функцию потерь\n",
        "criterion = nn.NLLLoss()\n",
        "log_interval = 100\n",
        "\n",
        "# запускаем главный тренировочный цикл\n",
        "for epoch in range(epochs):\n",
        "   for batch_idx, (data, target) in enumerate(train_data_loader):\n",
        "       data, target = data, target\n",
        "\n",
        "# изменим размер с (batch_size, 1, 28, 28) на (batch_size, 28*28)\n",
        "       data = data.view(-1, 28*28)\n",
        "       optimizer.zero_grad()\n",
        "       net_out = model(data)\n",
        "       loss = criterion(net_out, target)\n",
        "       loss.backward()\n",
        "       optimizer.step()\n",
        "       if batch_idx % log_interval == 0:\n",
        "           print(f\"Epoch {epoch+1} [{batch_idx*len(data)}/{len(train_data_loader.dataset)}] \"\n",
        "      f\"Loss: {loss.item():.6f}\")"
      ]
    },
    {
      "cell_type": "markdown",
      "metadata": {
        "id": "YyieNOBnYI5i"
      },
      "source": [
        "Также помните, что вы всегда можете обратиться к отличной [документации](https://pytorch.org/docs/stable/index.html) и [учебным материалам](https://pytorch.org/tutorials/)."
      ]
    },
    {
      "cell_type": "markdown",
      "metadata": {
        "id": "98PDITfOYI5i"
      },
      "source": [
        "Оценим качество классификации:"
      ]
    },
    {
      "cell_type": "code",
      "execution_count": null,
      "metadata": {
        "id": "CRGf4SZRYI5i"
      },
      "outputs": [],
      "source": [
        "predicted_labels = []\n",
        "real_labels = []\n",
        "model.eval()\n",
        "with torch.no_grad():\n",
        "    for batch in train_data_loader:\n",
        "        y_predicted = model(batch[0].reshape(-1, 784))\n",
        "        predicted_labels.append(y_predicted.argmax(dim=1))\n",
        "        real_labels.append(batch[1])\n",
        "\n",
        "predicted_labels = torch.cat(predicted_labels)\n",
        "real_labels = torch.cat(real_labels)\n",
        "train_acc = (predicted_labels == real_labels).type(torch.FloatTensor).mean()"
      ]
    },
    {
      "cell_type": "code",
      "execution_count": null,
      "metadata": {
        "id": "qSifQ4dvYI5j",
        "colab": {
          "base_uri": "https://localhost:8080/"
        },
        "outputId": "0118581a-7580-451d-d6ed-a21666a6c949"
      },
      "outputs": [
        {
          "output_type": "stream",
          "name": "stdout",
          "text": [
            "Neural network accuracy on train set: 0.99775\n"
          ]
        }
      ],
      "source": [
        "print(f'Neural network accuracy on train set: {train_acc:3.5}')"
      ]
    },
    {
      "cell_type": "code",
      "execution_count": null,
      "metadata": {
        "id": "5fv7G2_vYI5j"
      },
      "outputs": [],
      "source": [
        "predicted_labels = []\n",
        "real_labels = []\n",
        "model.eval()\n",
        "with torch.no_grad():\n",
        "    for batch in test_data_loader:\n",
        "        y_predicted = model(batch[0].reshape(-1, 784))\n",
        "        predicted_labels.append(y_predicted.argmax(dim=1))\n",
        "        real_labels.append(batch[1])\n",
        "\n",
        "predicted_labels = torch.cat(predicted_labels)\n",
        "real_labels = torch.cat(real_labels)\n",
        "test_acc = (predicted_labels == real_labels).type(torch.FloatTensor).mean()"
      ]
    },
    {
      "cell_type": "code",
      "execution_count": null,
      "metadata": {
        "id": "pd19cm_dYI5j",
        "colab": {
          "base_uri": "https://localhost:8080/"
        },
        "outputId": "3ef27cc8-172d-44d1-8852-6f5086479839"
      },
      "outputs": [
        {
          "output_type": "stream",
          "name": "stdout",
          "text": [
            "Neural network accuracy on test set: 0.9813\n"
          ]
        }
      ],
      "source": [
        "print(f'Neural network accuracy on test set: {test_acc:3.5}')"
      ]
    },
    {
      "cell_type": "markdown",
      "metadata": {
        "id": "UyGIDC2dYI5j"
      },
      "source": [
        "Проверка, что пороги пройдены:"
      ]
    },
    {
      "cell_type": "code",
      "execution_count": null,
      "metadata": {
        "id": "s_Nj1qQ1YI5j"
      },
      "outputs": [],
      "source": [
        "assert test_acc >= 0.92, 'Test accuracy is below 0.92 threshold'\n",
        "assert train_acc >= 0.91, 'Train accuracy is below 0.91 while test accuracy is fine. We recommend to check your model and data flow'"
      ]
    },
    {
      "cell_type": "markdown",
      "metadata": {
        "id": "pRaRzcgtYI5j"
      },
      "source": [
        "Обращаем внимане, код ниже предполагает, что ваша модель имеет содержится в переменной `model`, а файл `hw_mnist_data_dict.npy` находится в той же директории, что и ноутбук (он доступен в репозитории)."
      ]
    },
    {
      "cell_type": "code",
      "execution_count": null,
      "metadata": {
        "id": "wiIZYqaVYI5j"
      },
      "outputs": [],
      "source": [
        "import os\n",
        "import json\n",
        "import numpy as np\n",
        "import torch\n",
        "import torch.nn as nn\n",
        "\n",
        "# ---- подготовка модели/окружения ----\n",
        "# ВАЖНО: модель должна быть уже объявлена/загружена к этому моменту.\n",
        "# Перенесём её на CPU и в eval-режим.\n",
        "model = model.cpu()\n",
        "model.eval()\n",
        "torch.set_grad_enabled(False)\n",
        "\n",
        "# ---- проверка данных ----\n",
        "assert os.path.exists('hw_mnist_data_dict.npy'), \\\n",
        "    'Please, download `hw_mnist_data_dict.npy` and place it in the working directory'\n",
        "\n",
        "# np.load может вернуть 0-мерный объект с dict или сразу dict\n",
        "loaded_raw = np.load('hw_mnist_data_dict.npy', allow_pickle=True)\n",
        "loaded_data_dict = loaded_raw.item() if not isinstance(loaded_raw, dict) else loaded_raw\n",
        "\n",
        "def get_predictions(model: torch.nn.Module, eval_data_np: np.ndarray, step: int = 128) -> str:\n",
        "    \"\"\"\n",
        "    Возвращает строку меток через запятую: '1,4,0,...'\n",
        "    \"\"\"\n",
        "    # Преобразуем в тензор float32 на CPU\n",
        "    eval_data = torch.as_tensor(eval_data_np, dtype=torch.float32, device='cpu')\n",
        "    preds = []\n",
        "\n",
        "    with torch.no_grad():\n",
        "        # прогон батчами\n",
        "        n = len(eval_data)\n",
        "        for i in range(0, n, step):\n",
        "            batch = eval_data[i:i+step].reshape(-1, 784)  # [B, 784]\n",
        "            logits = model(batch)                        # [B, C]\n",
        "            y_hat = logits.argmax(dim=1)                 # [B]\n",
        "            preds.append(y_hat.cpu())\n",
        "\n",
        "    labels = torch.cat(preds, dim=0).tolist()           # list[int]\n",
        "    return ','.join(str(x) for x in labels)\n",
        "\n",
        "submission_dict = {\n",
        "    'train': get_predictions(model, loaded_data_dict['train']),\n",
        "    'test':  get_predictions(model, loaded_data_dict['test']),\n",
        "}\n",
        "\n",
        "# ВАЖНО: имя файла — именно submission_dict.json\n",
        "with open('submission_dict.json', 'w', encoding='utf-8') as f:\n",
        "    json.dump(submission_dict, f, ensure_ascii=False)\n"
      ]
    },
    {
      "cell_type": "markdown",
      "metadata": {
        "id": "IMwwv2agYI5j"
      },
      "source": [
        "### Сдача задания\n",
        "Сдайте сгенерированный файл в соответствующую задачу в соревновании, а именно:\n",
        "    \n",
        "* `submission_dict_mnist_task_1.json` в задачу Warmup (hw_mnist)"
      ]
    },
    {
      "cell_type": "markdown",
      "metadata": {
        "id": "Dw3V-Mf4YI5k"
      },
      "source": [
        "На этом задание завершено. Поздравляем!"
      ]
    }
  ],
  "metadata": {
    "kernelspec": {
      "display_name": "facelv_1.13+cu117",
      "language": "python",
      "name": "python3"
    },
    "language_info": {
      "codemirror_mode": {
        "name": "ipython",
        "version": 3
      },
      "file_extension": ".py",
      "mimetype": "text/x-python",
      "name": "python",
      "nbconvert_exporter": "python",
      "pygments_lexer": "ipython3",
      "version": "3.8.18"
    },
    "vscode": {
      "interpreter": {
        "hash": "21499ab2a6726e29f7050b76af0e9680227e613293d630ba279de7ebdfad9cae"
      }
    },
    "colab": {
      "provenance": [],
      "include_colab_link": true
    }
  },
  "nbformat": 4,
  "nbformat_minor": 0
}