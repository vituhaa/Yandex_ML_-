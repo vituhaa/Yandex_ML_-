{
  "cells": [
    {
      "cell_type": "markdown",
      "metadata": {
        "id": "view-in-github",
        "colab_type": "text"
      },
      "source": [
        "<a href=\"https://colab.research.google.com/github/vituhaa/Yandex_ML_-/blob/main/Homework_Attention.ipynb\" target=\"_parent\"><img src=\"https://colab.research.google.com/assets/colab-badge.svg\" alt=\"Open In Colab\"/></a>"
      ]
    },
    {
      "cell_type": "markdown",
      "metadata": {
        "id": "jNtLJlW4v5VF"
      },
      "source": [
        "## Домашнее задание №2\n",
        "\n",
        "В данном задании вам предстоит детально рассмотреть механизм Attention (и реализовать несколько его вариантов)."
      ]
    },
    {
      "cell_type": "code",
      "execution_count": null,
      "metadata": {
        "id": "KzvkbMOJWLOY"
      },
      "outputs": [],
      "source": [
        "import os\n",
        "import random\n",
        "\n",
        "import numpy as np\n",
        "import pandas as pd\n",
        "\n",
        "from sklearn.metrics import roc_auc_score, roc_curve, accuracy_score\n",
        "\n",
        "import torch\n",
        "import torch.nn as nn\n",
        "import torch.nn.functional as F\n",
        "\n",
        "import matplotlib.pyplot as plt\n",
        "from IPython.display import clear_output\n",
        "%matplotlib inline"
      ]
    },
    {
      "cell_type": "markdown",
      "metadata": {
        "id": "yoYa0SSBWLOa"
      },
      "source": [
        "### Реализация Attention\n",
        "\n",
        "В данной задаче вам предстоит реализовать механизм Attention, в частности несколько способов подсчета attention scores. Конечно, в популярных фреймворках данный механизм уже реализован, но для лучшего понимания вам предстаит реализовать его с помощью `numpy`.\n",
        "\n",
        "Ваше задание в данной задаче: реализовать `additive` (аддитивный) и `multiplicative` (мультипликативный) варианты Attention. Для вашего удобства (и для примера) `dot product` attention (основанный на скалярном произведении) уже реализован.\n",
        "\n",
        "Детальное описание данных типов Attention доступно в лекционных слайдах."
      ]
    },
    {
      "cell_type": "code",
      "execution_count": null,
      "metadata": {
        "id": "W4AdVBlUWLOa",
        "colab": {
          "base_uri": "https://localhost:8080/",
          "height": 485
        },
        "outputId": "06b10ec0-073c-41b1-d1c3-ffbf8e1c4b32"
      },
      "outputs": [
        {
          "output_type": "execute_result",
          "data": {
            "text/plain": [
              "Text(0.5, 1.0, 'Decoder state')"
            ]
          },
          "metadata": {},
          "execution_count": 2
        },
        {
          "output_type": "display_data",
          "data": {
            "text/plain": [
              "<Figure size 200x500 with 2 Axes>"
            ],
            "image/png": "[encoded data removed]"
          },
          "metadata": {}
        }
      ],
      "source": [
        "decoder_hidden_state = np.array([7, 11, 4]).astype(float)[:, None]\n",
        "\n",
        "plt.figure(figsize=(2, 5))\n",
        "plt.pcolormesh(decoder_hidden_state)\n",
        "plt.colorbar()\n",
        "plt.title(\"Decoder state\")"
      ]
    },
    {
      "cell_type": "markdown",
      "metadata": {
        "id": "aBSzFknBWLOa"
      },
      "source": [
        "#### Dot product attention (пример реализации)\n",
        "Рассмотрим единственное состояние энкодера – вектор с размерностью `(n_hidden, 1)`, где `n_hidden = 3`:"
      ]
    },
    {
      "cell_type": "code",
      "execution_count": null,
      "metadata": {
        "id": "5icp7akIWLOa",
        "colab": {
          "base_uri": "https://localhost:8080/",
          "height": 468
        },
        "outputId": "91656f46-0d42-48d2-9055-094ae0a61da2"
      },
      "outputs": [
        {
          "output_type": "execute_result",
          "data": {
            "text/plain": [
              "<matplotlib.colorbar.Colorbar at 0x785ed73bdb50>"
            ]
          },
          "metadata": {},
          "execution_count": 3
        },
        {
          "output_type": "display_data",
          "data": {
            "text/plain": [
              "<Figure size 200x500 with 2 Axes>"
            ],
            "image/png": "[encoded data removed]"
          },
          "metadata": {}
        }
      ],
      "source": [
        "single_encoder_hidden_state = np.array([1, 5, 11]).astype(float)[:, None]\n",
        "\n",
        "plt.figure(figsize=(2, 5))\n",
        "plt.pcolormesh(single_encoder_hidden_state)\n",
        "plt.colorbar()"
      ]
    },
    {
      "cell_type": "markdown",
      "metadata": {
        "id": "WphleTvUWLOb"
      },
      "source": [
        "Attention score между данными состояниями энкодера и декодера вычисляются просто как скалярное произведение:"
      ]
    },
    {
      "cell_type": "code",
      "execution_count": null,
      "metadata": {
        "id": "lEhDbTZWWLOb",
        "colab": {
          "base_uri": "https://localhost:8080/"
        },
        "outputId": "46a09d45-ee4f-47f1-d8bf-226200dba0cb"
      },
      "outputs": [
        {
          "output_type": "execute_result",
          "data": {
            "text/plain": [
              "array([[106.]])"
            ]
          },
          "metadata": {},
          "execution_count": 4
        }
      ],
      "source": [
        "np.dot(decoder_hidden_state.T, single_encoder_hidden_state)"
      ]
    },
    {
      "cell_type": "markdown",
      "metadata": {
        "id": "ztRxnP_6WLOb"
      },
      "source": [
        "В общем случае состояний энкодера, конечно, несколько. Attention scores вычисляются с каждым из состояний энкодера:"
      ]
    },
    {
      "cell_type": "code",
      "execution_count": null,
      "metadata": {
        "id": "jNvqlgA8WLOb",
        "colab": {
          "base_uri": "https://localhost:8080/"
        },
        "outputId": "f1bf872e-0956-4a51-bb83-1aaaffc606c9"
      },
      "outputs": [
        {
          "output_type": "execute_result",
          "data": {
            "text/plain": [
              "array([[ 1.,  7.,  8., -9.],\n",
              "       [ 5.,  4., 12.,  0.],\n",
              "       [11.,  1.,  2.,  1.]])"
            ]
          },
          "metadata": {},
          "execution_count": 5
        }
      ],
      "source": [
        "encoder_hidden_states = (\n",
        "    np.array([[1, 5, 11], [7, 4, 1], [8, 12, 2], [-9, 0, 1]]).astype(float).T\n",
        ")\n",
        "\n",
        "encoder_hidden_states"
      ]
    },
    {
      "cell_type": "markdown",
      "metadata": {
        "id": "tkKXaYbhWLOb"
      },
      "source": [
        "Тогда для подсчета скалярных произведений между единственным состоянием декодера и всеми состояниями энкодера можно воспользоваться следующей функцией (которая по факту представляет собой просто матричное умножение и приведение типов):"
      ]
    },
    {
      "cell_type": "code",
      "execution_count": null,
      "metadata": {
        "id": "OcMlUd1aWLOb"
      },
      "outputs": [],
      "source": [
        "def dot_product_attention_score(decoder_hidden_state, encoder_hidden_states):\n",
        "    \"\"\"\n",
        "    decoder_hidden_state: np.array of shape (n_features, 1)\n",
        "    encoder_hidden_states: np.array of shape (n_features, n_states)\n",
        "\n",
        "    return: np.array of shape (1, n_states)\n",
        "        Array with dot product attention scores\n",
        "    \"\"\"\n",
        "    attention_scores = np.dot(decoder_hidden_state.T, encoder_hidden_states)\n",
        "    return attention_scores"
      ]
    },
    {
      "cell_type": "code",
      "execution_count": null,
      "metadata": {
        "id": "-WkRwfBTWLOc",
        "colab": {
          "base_uri": "https://localhost:8080/"
        },
        "outputId": "32390648-aeb9-42d5-8ba5-dbe3b743455a"
      },
      "outputs": [
        {
          "output_type": "execute_result",
          "data": {
            "text/plain": [
              "array([[106.,  97., 196., -59.]])"
            ]
          },
          "metadata": {},
          "execution_count": 7
        }
      ],
      "source": [
        "dot_product_attention_score(decoder_hidden_state, encoder_hidden_states)"
      ]
    },
    {
      "cell_type": "markdown",
      "metadata": {
        "id": "0noaX_iPWLOc"
      },
      "source": [
        "Для подсчета \"весов\" нам необходим Softmax:"
      ]
    },
    {
      "cell_type": "code",
      "execution_count": null,
      "metadata": {
        "id": "zafrHQTLWLOc"
      },
      "outputs": [],
      "source": [
        "def softmax(vector):\n",
        "    \"\"\"\n",
        "    vector: np.array of shape (n, m)\n",
        "\n",
        "    return: np.array of shape (n, m)\n",
        "        Matrix where softmax is computed for every row independently\n",
        "    \"\"\"\n",
        "    nice_vector = vector - vector.max()\n",
        "    exp_vector = np.exp(nice_vector)\n",
        "    exp_denominator = np.sum(exp_vector, axis=1)[:, np.newaxis]\n",
        "    softmax_ = exp_vector / exp_denominator\n",
        "    return softmax_"
      ]
    },
    {
      "cell_type": "code",
      "execution_count": null,
      "metadata": {
        "id": "zsI6virlWLOc",
        "colab": {
          "base_uri": "https://localhost:8080/"
        },
        "outputId": "1b1e3877-729c-42b5-dc25-60822fc6206f"
      },
      "outputs": [
        {
          "output_type": "execute_result",
          "data": {
            "text/plain": [
              "array([[8.19401262e-040, 1.01122149e-043, 1.00000000e+000,\n",
              "        1.79848622e-111]])"
            ]
          },
          "metadata": {},
          "execution_count": 9
        }
      ],
      "source": [
        "weights_vector = softmax(\n",
        "    dot_product_attention_score(decoder_hidden_state, encoder_hidden_states)\n",
        ")\n",
        "\n",
        "weights_vector"
      ]
    },
    {
      "cell_type": "markdown",
      "metadata": {
        "id": "nuc6VNdeWLOc"
      },
      "source": [
        "Наконец, воспользуемся данными весами и вычислим итоговый вектор, как и описано для dot product attention."
      ]
    },
    {
      "cell_type": "code",
      "execution_count": null,
      "metadata": {
        "id": "5S1WIvuGWLOc",
        "colab": {
          "base_uri": "https://localhost:8080/",
          "height": 520
        },
        "outputId": "09149d84-47a6-4ac2-f745-e52219c61493"
      },
      "outputs": [
        {
          "output_type": "stream",
          "name": "stdout",
          "text": [
            "[[ 8.]\n",
            " [12.]\n",
            " [ 2.]]\n"
          ]
        },
        {
          "output_type": "execute_result",
          "data": {
            "text/plain": [
              "<matplotlib.colorbar.Colorbar at 0x785ed51034a0>"
            ]
          },
          "metadata": {},
          "execution_count": 10
        },
        {
          "output_type": "display_data",
          "data": {
            "text/plain": [
              "<Figure size 200x500 with 2 Axes>"
            ],
            "image/png": "[encoded data removed]"
          },
          "metadata": {}
        }
      ],
      "source": [
        "attention_vector = weights_vector.dot(encoder_hidden_states.T).T\n",
        "print(attention_vector)\n",
        "\n",
        "plt.figure(figsize=(2, 5))\n",
        "plt.pcolormesh(attention_vector, cmap=\"spring\")\n",
        "plt.colorbar()"
      ]
    },
    {
      "cell_type": "markdown",
      "metadata": {
        "id": "lKkIVEClWLOd"
      },
      "source": [
        "Данный вектор аккумулирует в себе информацию из всех состояний энкодера, взвешенную на основе близости к заданному состоянию декодера.\n",
        "\n",
        "Реализуем все вышеописанные преобразования в единой функции:"
      ]
    },
    {
      "cell_type": "code",
      "execution_count": null,
      "metadata": {
        "id": "MX8q3ktpWLOd"
      },
      "outputs": [],
      "source": [
        "def dot_product_attention(decoder_hidden_state, encoder_hidden_states):\n",
        "    \"\"\"\n",
        "    decoder_hidden_state: np.array of shape (n_features, 1)\n",
        "    encoder_hidden_states: np.array of shape (n_features, n_states)\n",
        "\n",
        "    return: np.array of shape (n_features, 1)\n",
        "        Final attention vector\n",
        "    \"\"\"\n",
        "    softmax_vector = softmax(\n",
        "        dot_product_attention_score(decoder_hidden_state, encoder_hidden_states)\n",
        "    )\n",
        "    attention_vector = softmax_vector.dot(encoder_hidden_states.T).T\n",
        "    return attention_vector"
      ]
    },
    {
      "cell_type": "code",
      "execution_count": null,
      "metadata": {
        "id": "_m1Idc0bWLOd"
      },
      "outputs": [],
      "source": [
        "assert (\n",
        "    attention_vector\n",
        "    == dot_product_attention(decoder_hidden_state, encoder_hidden_states)\n",
        ").all()"
      ]
    },
    {
      "cell_type": "markdown",
      "metadata": {
        "id": "D153kfcqWLOd"
      },
      "source": [
        "#### Multiplicative attention\n",
        "Ваша текущая задача: реализовать multiplicative attention.\n",
        "$$ e_i = \\mathbf{s}^TW_{mult}\\mathbf{h}_i $$\n",
        "\n",
        "Матрица весов `W_mult` задана ниже.\n",
        "Стоит заметить, что multiplicative attention позволяет работать с состояниями энкодера и декодера различных размерностей, поэтому состояния энкодера будут обновлены:"
      ]
    },
    {
      "cell_type": "code",
      "execution_count": null,
      "metadata": {
        "id": "kIBqyQH0WLOd",
        "colab": {
          "base_uri": "https://localhost:8080/"
        },
        "outputId": "4dc4ed47-a659-46bd-8eb1-8e40ab0c5896"
      },
      "outputs": [
        {
          "output_type": "execute_result",
          "data": {
            "text/plain": [
              "array([[ 1.,  7.,  8., -9.],\n",
              "       [ 5.,  4., 12.,  0.],\n",
              "       [11.,  1.,  2.,  1.],\n",
              "       [ 4.,  2., 11.,  8.],\n",
              "       [-4.,  2.,  5., 12.]])"
            ]
          },
          "metadata": {},
          "execution_count": 13
        }
      ],
      "source": [
        "encoder_hidden_states_complex = (\n",
        "    np.array([[1, 5, 11, 4, -4], [7, 4, 1, 2, 2], [8, 12, 2, 11, 5], [-9, 0, 1, 8, 12]]).astype(float).T\n",
        ")\n",
        "\n",
        "W_mult = np.array(\n",
        "    [\n",
        "        [-0.78, -0.97, -1.09, -1.79, 0.24],\n",
        "        [0.04, -0.27, -0.98, -0.49, 0.52],\n",
        "        [1.08, 0.91, -0.99, 2.04, -0.15],\n",
        "    ]\n",
        ")\n",
        "\n",
        "encoder_hidden_states_complex"
      ]
    },
    {
      "cell_type": "code",
      "execution_count": null,
      "metadata": {
        "id": "UktAjsjUWLOd"
      },
      "outputs": [],
      "source": [
        "# your code here\n",
        "def multiplicative_attention_score(decoder_hidden_state, encoder_hidden_states_complex, W_mult):\n",
        "  # W_mult - (3, 5)\n",
        "  # encoder_hidden_states_complex (5, 4)\n",
        "  # decoder_hidden_state - (1, 3)\n",
        "  multiply_encoder_W_mult = np.dot(W_mult, encoder_hidden_states_complex) # матричное перемножение\n",
        "  attention_scores = np.dot(decoder_hidden_state.T, multiply_encoder_W_mult)\n",
        "  return attention_scores"
      ]
    },
    {
      "cell_type": "code",
      "source": [
        "multiplicative_attention_score(decoder_hidden_state, encoder_hidden_states_complex, W_mult)"
      ],
      "metadata": {
        "colab": {
          "base_uri": "https://localhost:8080/"
        },
        "id": "dnbwBOq6faJ0",
        "outputId": "203e691e-3107-4b8e-c731-ea610caf1488"
      },
      "execution_count": null,
      "outputs": [
        {
          "output_type": "execute_result",
          "data": {
            "text/plain": [
              "array([[-343.61,  -57.67, -197.14,  -12.55]])"
            ]
          },
          "metadata": {},
          "execution_count": 24
        }
      ]
    },
    {
      "cell_type": "markdown",
      "metadata": {
        "id": "zG_HZsVYWLOd"
      },
      "source": [
        "Реализуйте подсчет attention согласно формулам и реализуйте итоговую функцию `multiplicative_attention`:"
      ]
    },
    {
      "cell_type": "code",
      "execution_count": null,
      "metadata": {
        "id": "ItZIOOehWLOd"
      },
      "outputs": [],
      "source": [
        "def multiplicative_attention(decoder_hidden_state, encoder_hidden_states_complex, W_mult):\n",
        "    \"\"\"\n",
        "    decoder_hidden_state: np.array of shape (n_features_dec, 1)\n",
        "    encoder_hidden_states: np.array of shape (n_features_enc, n_states)\n",
        "    W_mult: np.array of shape (n_features_dec, n_features_enc)\n",
        "\n",
        "    return: np.array of shape (n_features_enc, 1)\n",
        "        Final attention vector\n",
        "    \"\"\"\n",
        "    softmax_vector = softmax(multiplicative_attention_score(decoder_hidden_state, encoder_hidden_states_complex, W_mult))\n",
        "    attention_vector = softmax_vector.dot(encoder_hidden_states_complex.T).T\n",
        "    return attention_vector"
      ]
    },
    {
      "cell_type": "code",
      "source": [
        "multiplicative_attention(decoder_hidden_state, encoder_hidden_states_complex, W_mult)"
      ],
      "metadata": {
        "colab": {
          "base_uri": "https://localhost:8080/"
        },
        "id": "yHZgWXKXyznC",
        "outputId": "887ade3e-85bc-49d4-8488-275ccfd473e9"
      },
      "execution_count": null,
      "outputs": [
        {
          "output_type": "execute_result",
          "data": {
            "text/plain": [
              "array([[-9.00000000e+00],\n",
              "       [ 1.01553049e-19],\n",
              "       [ 1.00000000e+00],\n",
              "       [ 8.00000000e+00],\n",
              "       [ 1.20000000e+01]])"
            ]
          },
          "metadata": {},
          "execution_count": 28
        }
      ]
    },
    {
      "cell_type": "markdown",
      "metadata": {
        "id": "rEqtjLtDWLOe"
      },
      "source": [
        "#### Additive attention\n",
        "Теперь вам предстоит реализовать additive attention.\n",
        "\n",
        "$$ e_i = \\mathbf{v}^T \\text{tanh} (W_{add-enc} \\mathbf{h}_i + W_{add-dec} \\mathbf{s}) $$\n",
        "\n",
        "Матрицы весов `W_add_enc` и `W_add_dec` доступны ниже, как и вектор весов `v_add`. Для вычисления активации можно воспользоваться `np.tanh`."
      ]
    },
    {
      "cell_type": "code",
      "execution_count": null,
      "metadata": {
        "id": "j94VYOVeWLOe"
      },
      "outputs": [],
      "source": [
        "v_add = np.array([[-0.35, -0.58, 0.07, 1.39, -0.79, -1.78, -0.35]]).T\n",
        "\n",
        "W_add_enc = np.array(\n",
        "    [\n",
        "        [-1.34, -0.1, -0.38, 0.12, -0.34],\n",
        "        [-1.0, 1.28, 0.49, -0.41, -0.32],\n",
        "        [-0.39, -1.38, 1.26, 1.21, 0.15],\n",
        "        [-0.18, 0.04, 1.36, -1.18, -0.53],\n",
        "        [-0.23, 0.96, 1.02, 0.39, -1.26],\n",
        "        [-1.27, 0.89, -0.85, -0.01, -1.19],\n",
        "        [0.46, -0.12, -0.86, -0.93, -0.4],\n",
        "    ]\n",
        ")\n",
        "\n",
        "W_add_dec = np.array(\n",
        "    [\n",
        "        [-1.62, -0.02, -0.39],\n",
        "        [0.43, 0.61, -0.23],\n",
        "        [-1.5, -0.43, -0.91],\n",
        "        [-0.14, 0.03, 0.05],\n",
        "        [0.85, 0.51, 0.63],\n",
        "        [0.39, -0.42, 1.34],\n",
        "        [-0.47, -0.31, -1.34],\n",
        "    ]\n",
        ")"
      ]
    },
    {
      "cell_type": "code",
      "execution_count": null,
      "metadata": {
        "id": "l5hwEjHMWLOe"
      },
      "outputs": [],
      "source": [
        "# your code here\n",
        "def additive_attention_score(v_add, W_add_enc, W_add_dec, decoder_hidden_state, encoder_hidden_states_complex):\n",
        "  # v_add - (7, 1) +\n",
        "  # encoder_hidden_states_complex - (5, 4) +\n",
        "  # W_add_enc - (7, 5) +\n",
        "  # decoder_hidden_state - (1, 3) +\n",
        "  # W_add_dec - (7, 3) +\n",
        "  tanh_function = np.tanh(np.dot(W_add_enc, encoder_hidden_states_complex) + np.dot(W_add_dec, decoder_hidden_state))\n",
        "  attention_scores = np.dot(v_add.T, tanh_function)\n",
        "  return attention_scores"
      ]
    },
    {
      "cell_type": "code",
      "source": [
        "additive_attention_score(v_add, W_add_enc, W_add_dec, decoder_hidden_state, encoder_hidden_states_complex)"
      ],
      "metadata": {
        "colab": {
          "base_uri": "https://localhost:8080/"
        },
        "id": "OlKa-5MHnezN",
        "outputId": "95e6b753-f38b-4b9d-a6a1-22ed7757cfa3"
      },
      "execution_count": null,
      "outputs": [
        {
          "output_type": "execute_result",
          "data": {
            "text/plain": [
              "array([[-1.06843635, -0.3480889 , -0.35189077, -1.5945094 ]])"
            ]
          },
          "metadata": {},
          "execution_count": 31
        }
      ]
    },
    {
      "cell_type": "markdown",
      "metadata": {
        "id": "eV6JBHioWLOe"
      },
      "source": [
        "Реализуйте подсчет attention согласно формулам и реализуйте итоговую функцию `additive_attention`:"
      ]
    },
    {
      "cell_type": "code",
      "execution_count": null,
      "metadata": {
        "id": "isPS4hSZWLOe"
      },
      "outputs": [],
      "source": [
        "def additive_attention(\n",
        "    decoder_hidden_state, encoder_hidden_states_complex, v_add, W_add_enc, W_add_dec\n",
        "):\n",
        "    \"\"\"\n",
        "    decoder_hidden_state: np.array of shape (n_features_dec, 1)\n",
        "    encoder_hidden_states: np.array of shape (n_features_enc, n_states)\n",
        "    v_add: np.array of shape (n_features_int, 1)\n",
        "    W_add_enc: np.array of shape (n_features_int, n_features_enc)\n",
        "    W_add_dec: np.array of shape (n_features_int, n_features_dec)\n",
        "\n",
        "    return: np.array of shape (n_features_enc, 1)\n",
        "        Final attention vector\n",
        "    \"\"\"\n",
        "    # your code here\n",
        "    softmax_vector = softmax(additive_attention_score(v_add, W_add_enc, W_add_dec, decoder_hidden_state, encoder_hidden_states_complex))\n",
        "    attention_vector = softmax_vector.dot(encoder_hidden_states_complex.T).T\n",
        "    return attention_vector"
      ]
    },
    {
      "cell_type": "code",
      "source": [
        "additive_attention(\n",
        "    decoder_hidden_state, encoder_hidden_states_complex, v_add, W_add_enc, W_add_dec\n",
        ")"
      ],
      "metadata": {
        "colab": {
          "base_uri": "https://localhost:8080/"
        },
        "id": "1IARN8Zyy3LS",
        "outputId": "dc31262e-14cf-4e0a-fa5a-637555e0f705"
      },
      "execution_count": null,
      "outputs": [
        {
          "output_type": "execute_result",
          "data": {
            "text/plain": [
              "array([[4.64510711],\n",
              "       [6.6372749 ],\n",
              "       [3.11601386],\n",
              "       [6.2104178 ],\n",
              "       [3.06285127]])"
            ]
          },
          "metadata": {},
          "execution_count": 33
        }
      ]
    },
    {
      "cell_type": "code",
      "source": [
        "assert (\n",
        "    attention_vector\n",
        "    == dot_product_attention(decoder_hidden_state, encoder_hidden_states)\n",
        ").all()"
      ],
      "metadata": {
        "id": "Ovu0KFRzzOiG"
      },
      "execution_count": null,
      "outputs": []
    },
    {
      "cell_type": "markdown",
      "metadata": {
        "id": "dJsCCtCiWLOe"
      },
      "source": [
        "Сдайте функции `multiplicative_attention` и `additive_attention` в контест.\n",
        "\n",
        "Не забудьте про импорт `numpy`!"
      ]
    },
    {
      "cell_type": "markdown",
      "metadata": {
        "id": "SjGuVvb7WLOj"
      },
      "source": [
        "На этом задание завершено. Поздравляем!"
      ]
    }
  ],
  "metadata": {
    "colab": {
      "provenance": [],
      "include_colab_link": true
    },
    "kernelspec": {
      "display_name": "Py3 Research",
      "language": "python",
      "name": "py3_research"
    },
    "language_info": {
      "codemirror_mode": {
        "name": "ipython",
        "version": 3
      },
      "file_extension": ".py",
      "mimetype": "text/x-python",
      "name": "python",
      "nbconvert_exporter": "python",
      "pygments_lexer": "ipython3",
      "version": "3.7.7"
    }
  },
  "nbformat": 4,
  "nbformat_minor": 0
}